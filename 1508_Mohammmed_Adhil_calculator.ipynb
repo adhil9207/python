{
 "cells": [
  {
   "cell_type": "code",
   "execution_count": 1,
   "id": "f47ded91-25d7-4126-865f-d9df89a009f0",
   "metadata": {},
   "outputs": [],
   "source": [
    "import tkinter as tk\n",
    "\n",
    "def button_click(symbol):\n",
    "    current = entry.get()\n",
    "    entry.delete(0, tk.END)\n",
    "    entry.insert(0, current + symbol)\n",
    "\n",
    "def clear():\n",
    "    entry.delete(0, tk.END)\n",
    "\n",
    "def calculate():\n",
    "    try:\n",
    "        result = eval(entry.get())\n",
    "        entry.delete(0, tk.END)\n",
    "        entry.insert(0, str(result))\n",
    "    except Exception as e:\n",
    "        entry.delete(0, tk.END)\n",
    "        entry.insert(0, \"Error\")\n",
    "\n",
    "root = tk.Tk()\n",
    "root.title(\"Calculator\")\n",
    "\n",
    "entry = tk.Entry(root, width=35, borderwidth=5)\n",
    "entry.grid(row=0, column=0, columnspan=4, padx=10, pady=10)\n",
    "\n",
    "button_symbols = [\n",
    "    ('7', 1, 0), ('8', 1, 1), ('9', 1, 2), ('/', 1, 3),\n",
    "    ('4', 2, 0), ('5', 2, 1), ('6', 2, 2), ('*', 2, 3),\n",
    "    ('1', 3, 0), ('2', 3, 1), ('3', 3, 2), ('-', 3, 3),\n",
    "    ('0', 4, 0), ('.', 4, 1), ('=', 4, 2), ('+', 4, 3)\n",
    "]\n",
    "\n",
    "for symbol, row, col in button_symbols:\n",
    "    btn = tk.Button(root, text=symbol, padx=20, pady=20, command=lambda s=symbol: button_click(s))\n",
    "    btn.grid(row=row, column=col)\n",
    "\n",
    "clear_button = tk.Button(root, text=\"Clear\", padx=79, pady=20, command=clear)\n",
    "clear_button.grid(row=5, column=0, columnspan=2)\n",
    "\n",
    "calculate_button = tk.Button(root, text=\"Calculate\", padx=67, pady=20, command=calculate)\n",
    "calculate_button.grid(row=5, column=2, columnspan=2)\n",
    "\n",
    "root.mainloop()\n"
   ]
  },
  {
   "cell_type": "code",
   "execution_count": null,
   "id": "06de9b2a-218a-496d-99f1-053b4b2bb7d2",
   "metadata": {},
   "outputs": [],
   "source": []
  }
 ],
 "metadata": {
  "kernelspec": {
   "display_name": "Python 3 (ipykernel)",
   "language": "python",
   "name": "python3"
  },
  "language_info": {
   "codemirror_mode": {
    "name": "ipython",
    "version": 3
   },
   "file_extension": ".py",
   "mimetype": "text/x-python",
   "name": "python",
   "nbconvert_exporter": "python",
   "pygments_lexer": "ipython3",
   "version": "3.11.7"
  }
 },
 "nbformat": 4,
 "nbformat_minor": 5
}
