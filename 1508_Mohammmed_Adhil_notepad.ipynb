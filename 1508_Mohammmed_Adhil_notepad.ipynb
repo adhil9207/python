{
 "cells": [
  {
   "cell_type": "code",
   "execution_count": 1,
   "id": "e44127e3-d841-4e3d-aa11-9ab8b4bbec7c",
   "metadata": {},
   "outputs": [],
   "source": [
    "import tkinter as tk\n",
    "from tkinter import filedialog\n",
    "\n",
    "def new_file():\n",
    "    text_editor.delete(1.0, tk.END)\n",
    "\n",
    "def open_file():\n",
    "    file_path = filedialog.askopenfilename()\n",
    "    if file_path:\n",
    "        with open(file_path, 'r') as file:\n",
    "            text = file.read()\n",
    "            text_editor.delete(1.0, tk.END)\n",
    "            text_editor.insert(1.0, text)\n",
    "\n",
    "def save_file():\n",
    "    file_path = filedialog.asksaveasfilename(defaultextension=\".txt\")\n",
    "    if file_path:\n",
    "        with open(file_path, 'w') as file:\n",
    "            text = text_editor.get(1.0, tk.END)\n",
    "            file.write(text)\n",
    "\n",
    "root = tk.Tk()\n",
    "root.title(\"Notepad\")\n",
    "\n",
    "text_editor = tk.Text(root)\n",
    "text_editor.pack(fill=tk.BOTH, expand=True)\n",
    "\n",
    "menu_bar = tk.Menu(root)\n",
    "file_menu = tk.Menu(menu_bar, tearoff=0)\n",
    "file_menu.add_command(label=\"New\", command=new_file)\n",
    "file_menu.add_command(label=\"Open\", command=open_file)\n",
    "file_menu.add_command(label=\"Save\", command=save_file)\n",
    "file_menu.add_separator()\n",
    "file_menu.add_command(label=\"Exit\", command=root.quit)\n",
    "menu_bar.add_cascade(label=\"File\", menu=file_menu)\n",
    "\n",
    "root.config(menu=menu_bar)\n",
    "\n",
    "root.mainloop()\n"
   ]
  },
  {
   "cell_type": "code",
   "execution_count": null,
   "id": "7c1c657b-bf58-480d-81e5-04d6c9f7de0e",
   "metadata": {},
   "outputs": [],
   "source": []
  }
 ],
 "metadata": {
  "kernelspec": {
   "display_name": "Python 3 (ipykernel)",
   "language": "python",
   "name": "python3"
  },
  "language_info": {
   "codemirror_mode": {
    "name": "ipython",
    "version": 3
   },
   "file_extension": ".py",
   "mimetype": "text/x-python",
   "name": "python",
   "nbconvert_exporter": "python",
   "pygments_lexer": "ipython3",
   "version": "3.11.7"
  }
 },
 "nbformat": 4,
 "nbformat_minor": 5
}
