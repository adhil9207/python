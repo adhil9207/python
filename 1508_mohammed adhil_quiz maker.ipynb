{
 "cells": [
  {
   "cell_type": "code",
   "execution_count": 23,
   "id": "a44656ae-2f32-4dae-8afb-0ea528f4e82c",
   "metadata": {
    "scrolled": true
   },
   "outputs": [
    {
     "name": "stdout",
     "output_type": "stream",
     "text": [
      "----------------------\n",
      "How many elements are there in the periodic table?\n",
      "A. 116\n",
      "B. 117\n",
      "C. 118\n",
      "D. 119\n"
     ]
    },
    {
     "name": "stdin",
     "output_type": "stream",
     "text": [
      "Enter your answer (A, B, C, or D):  c\n"
     ]
    },
    {
     "name": "stdout",
     "output_type": "stream",
     "text": [
      "Correct!\n",
      "----------------------\n",
      "Which animal lays the largest eggs?\n",
      "A. Whale\n",
      "B. Crocodile\n",
      "C. Elephant\n",
      "D. Ostrich\n"
     ]
    },
    {
     "name": "stdin",
     "output_type": "stream",
     "text": [
      "Enter your answer (A, B, C, or D):  d\n"
     ]
    },
    {
     "name": "stdout",
     "output_type": "stream",
     "text": [
      "Correct!\n",
      "----------------------\n",
      "What is the most abundant gas in Earth's atmosphere?\n",
      "A. N\n",
      "B. O2\n",
      "C. CO2\n",
      "D. H\n"
     ]
    },
    {
     "name": "stdin",
     "output_type": "stream",
     "text": [
      "Enter your answer (A, B, C, or D):  a\n"
     ]
    },
    {
     "name": "stdout",
     "output_type": "stream",
     "text": [
      "Correct!\n",
      "----------------------\n",
      "How many bones are in the human body?\n",
      "A. 206\n",
      "B. 207\n",
      "C. 208\n",
      "D. 209\n"
     ]
    },
    {
     "name": "stdin",
     "output_type": "stream",
     "text": [
      "Enter your answer (A, B, C, or D):  a\n"
     ]
    },
    {
     "name": "stdout",
     "output_type": "stream",
     "text": [
      "Correct!\n",
      "----------------------\n",
      "Which planet in the solar system is the hottest?\n",
      "A. Mercury\n",
      "B. Venus\n",
      "C. Earth\n",
      "D. Mars\n"
     ]
    },
    {
     "name": "stdin",
     "output_type": "stream",
     "text": [
      "Enter your answer (A, B, C, or D):  b\n"
     ]
    },
    {
     "name": "stdout",
     "output_type": "stream",
     "text": [
      "Correct!\n",
      "----------------------\n",
      "End of the quiz. Your score is 5/5. Thanks for playing!\n"
     ]
    }
   ],
   "source": [
    "questions = [\n",
    "    \"How many elements are there in the periodic table?\",\n",
    "    \"Which animal lays the largest eggs?\",\n",
    "    \"What is the most abundant gas in Earth's atmosphere?\",\n",
    "    \"How many bones are in the human body?\",\n",
    "    \"Which planet in the solar system is the hottest?\"\n",
    "]\n",
    "\n",
    "options = [\n",
    "    [\"A. 116\", \"B. 117\", \"C. 118\", \"D. 119\"],\n",
    "    [\"A. Whale\", \"B. Crocodile\", \"C. Elephant\", \"D. Ostrich\"],\n",
    "    [\"A. N\", \"B. O2\", \"C. CO2\", \"D. H\"],\n",
    "    [\"A. 206\", \"B. 207\", \"C. 208\", \"D. 209\"],\n",
    "    [\"A. Mercury\", \"B. Venus\", \"C. Earth\", \"D. Mars\"]\n",
    "]\n",
    "\n",
    "answers = [\"C\", \"D\", \"A\", \"A\", \"B\"]\n",
    "\n",
    "score = 0  # Initialize score\n",
    "\n",
    "for i in range(len(questions)):\n",
    "    print(\"----------------------\")\n",
    "    print(questions[i])\n",
    "    for option in options[i]:\n",
    "        print(option)\n",
    "    \n",
    "    user_answer = input(\"Enter your answer (A, B, C, or D): \").upper()\n",
    "    \n",
    "    if user_answer == answers[i]:\n",
    "        print(\"Correct!\")\n",
    "        score += 1  # Increment score for correct answer\n",
    "    else:\n",
    "        print(f\"Wrong. The correct answer is {answers[i]}\")\n",
    "\n",
    "# Display final score\n",
    "print(\"----------------------\")\n",
    "print(f\"End of the quiz. Your score is {score}/{len(questions)}. Thanks for playing!\")\n"
   ]
  },
  {
   "cell_type": "code",
   "execution_count": null,
   "id": "9cac568a-e6ef-45c1-8e14-f1c8224b46fa",
   "metadata": {},
   "outputs": [],
   "source": []
  },
  {
   "cell_type": "code",
   "execution_count": null,
   "id": "c2d28f4b-25c4-4680-a155-642a2148519c",
   "metadata": {},
   "outputs": [],
   "source": []
  },
  {
   "cell_type": "code",
   "execution_count": null,
   "id": "10494dfc-8290-4647-ad2f-ad5188367c93",
   "metadata": {},
   "outputs": [],
   "source": []
  },
  {
   "cell_type": "code",
   "execution_count": null,
   "id": "2fcbe060-5fa3-49bc-8862-d2c9ac3076cf",
   "metadata": {},
   "outputs": [],
   "source": []
  },
  {
   "cell_type": "code",
   "execution_count": null,
   "id": "f7ec5e57-605b-4099-ba61-7024ac97fbc6",
   "metadata": {},
   "outputs": [],
   "source": []
  }
 ],
 "metadata": {
  "kernelspec": {
   "display_name": "Python 3 (ipykernel)",
   "language": "python",
   "name": "python3"
  },
  "language_info": {
   "codemirror_mode": {
    "name": "ipython",
    "version": 3
   },
   "file_extension": ".py",
   "mimetype": "text/x-python",
   "name": "python",
   "nbconvert_exporter": "python",
   "pygments_lexer": "ipython3",
   "version": "3.11.7"
  }
 },
 "nbformat": 4,
 "nbformat_minor": 5
}
